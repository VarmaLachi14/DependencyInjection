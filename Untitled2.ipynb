{
  "nbformat": 4,
  "nbformat_minor": 0,
  "metadata": {
    "colab": {
      "name": "Untitled2.ipynb",
      "provenance": [],
      "mount_file_id": "1Q7kpQ24jXGN7htd4EdWNoAO1M0LTImOG",
      "authorship_tag": "ABX9TyM3wSOImkUcsSON9Szmw2Iy",
      "include_colab_link": true
    },
    "kernelspec": {
      "name": "python3",
      "display_name": "Python 3"
    },
    "language_info": {
      "name": "python"
    }
  },
  "cells": [
    {
      "cell_type": "markdown",
      "metadata": {
        "id": "view-in-github",
        "colab_type": "text"
      },
      "source": [
        "<a href=\"https://colab.research.google.com/github/VarmaLachi14/DependencyInjection/blob/master/Untitled2.ipynb\" target=\"_parent\"><img src=\"https://colab.research.google.com/assets/colab-badge.svg\" alt=\"Open In Colab\"/></a>"
      ]
    },
    {
      "cell_type": "code",
      "metadata": {
        "id": "x1dPFhX-1uNO"
      },
      "source": [
        "import pandas as pd\n",
        "import matplotlib.pyplot as plt"
      ],
      "execution_count": 1,
      "outputs": []
    },
    {
      "cell_type": "code",
      "metadata": {
        "id": "-SocKIvx5DkA"
      },
      "source": [
        "dataset = pd.read_csv('/content/drive/MyDrive/regular.txt', engine='python', sep=',',names =['instructions','cache-references','cache-misses','branches','branch-misses'])"
      ],
      "execution_count": 2,
      "outputs": []
    },
    {
      "cell_type": "code",
      "metadata": {
        "id": "KSOMMv0Q5QVp"
      },
      "source": [
        "data_instr = dataset.iloc[:,[0]]"
      ],
      "execution_count": 3,
      "outputs": []
    },
    {
      "cell_type": "code",
      "metadata": {
        "colab": {
          "base_uri": "https://localhost:8080/",
          "height": 276
        },
        "id": "qyQXUYLy5rcZ",
        "outputId": "6fd5ffc5-544b-4df6-e7eb-5c6c18c2d280"
      },
      "source": [
        "plt.plot(data_instr)\n",
        "plt.legend([\"regular instructions\"])\n",
        "plt.show()"
      ],
      "execution_count": 4,
      "outputs": [
        {
          "output_type": "display_data",
          "data": {
            "image/png": "[encoded data removed]",
            "text/plain": [
              "<Figure size 432x288 with 1 Axes>"
            ]
          },
          "metadata": {
            "tags": [],
            "needs_background": "light"
          }
        }
      ]
    },
    {
      "cell_type": "code",
      "metadata": {
        "id": "nzrxBcF65u-p"
      },
      "source": [
        "import numpy as np\n",
        "import matplotlib.pyplot as plt\n",
        "import pandas as pd\n",
        "import math\n",
        "from keras.models import Sequential\n",
        "from keras.layers import Dense\n",
        "from keras.layers import LSTM\n",
        "from sklearn.preprocessing import MinMaxScaler\n",
        "from sklearn.metrics import mean_squared_error"
      ],
      "execution_count": 5,
      "outputs": []
    },
    {
      "cell_type": "code",
      "metadata": {
        "id": "IO2b_A635zMT"
      },
      "source": [
        "np.random.seed(7)"
      ],
      "execution_count": 6,
      "outputs": []
    },
    {
      "cell_type": "code",
      "metadata": {
        "id": "K_QGobt153kl"
      },
      "source": [
        "dataset = data_instr.values\n",
        "dataset = dataset.astype('float32')"
      ],
      "execution_count": 7,
      "outputs": []
    },
    {
      "cell_type": "code",
      "metadata": {
        "id": "UULa11Cd56Do"
      },
      "source": [
        "scaler = MinMaxScaler(feature_range=(0, 1))\n",
        "dataset = scaler.fit_transform(dataset)"
      ],
      "execution_count": 8,
      "outputs": []
    },
    {
      "cell_type": "code",
      "metadata": {
        "colab": {
          "base_uri": "https://localhost:8080/"
        },
        "id": "jAdi-f2058P5",
        "outputId": "3c2f46f8-70b6-45a9-ad8c-3384b34bb600"
      },
      "source": [
        "# split into train and test sets\n",
        "train_size = int(len(dataset) * 0.67)\n",
        "test_size = len(dataset) - train_size\n",
        "train, test = dataset[0:train_size,:], dataset[train_size:len(dataset),:]\n",
        "print(len(train), len(test))"
      ],
      "execution_count": 9,
      "outputs": [
        {
          "output_type": "stream",
          "text": [
            "150150 73955\n"
          ],
          "name": "stdout"
        }
      ]
    },
    {
      "cell_type": "code",
      "metadata": {
        "id": "A9OW3Zjy6Ai7"
      },
      "source": [
        "# convert  array of values into a dataset matrix\n",
        "def create_dataset(dataset, look_back=1):\n",
        "\tdataX, dataY = [], []\n",
        "\tfor i in range(len(dataset)-look_back-1):\n",
        "\t\ta = dataset[i:(i+look_back), 0]\n",
        "\t\tdataX.append(a)\n",
        "\t\tdataY.append(dataset[i + look_back, 0])\n",
        "\treturn np.array(dataX), np.array(dataY)"
      ],
      "execution_count": 10,
      "outputs": []
    },
    {
      "cell_type": "code",
      "metadata": {
        "colab": {
          "base_uri": "https://localhost:8080/"
        },
        "id": "1jLpNm7l6EAm",
        "outputId": "478e99ea-eb51-4d4c-91ab-1a0afc04272e"
      },
      "source": [
        "dataset.shape"
      ],
      "execution_count": 11,
      "outputs": [
        {
          "output_type": "execute_result",
          "data": {
            "text/plain": [
              "(224105, 1)"
            ]
          },
          "metadata": {
            "tags": []
          },
          "execution_count": 11
        }
      ]
    },
    {
      "cell_type": "code",
      "metadata": {
        "id": "ApaS6FCO6Guc"
      },
      "source": [
        "# reshape into X=t and Y=t+1\n",
        "look_back = 50\n",
        "trainX, trainY = create_dataset(train, look_back)\n",
        "testX, testY = create_dataset(test, look_back)"
      ],
      "execution_count": 12,
      "outputs": []
    },
    {
      "cell_type": "code",
      "metadata": {
        "colab": {
          "base_uri": "https://localhost:8080/"
        },
        "id": "eUWBD03Q6JJ2",
        "outputId": "d3d19644-68ad-4a99-ff0b-8ed4f8c59ac7"
      },
      "source": [
        "\n",
        "trainX.shape"
      ],
      "execution_count": 13,
      "outputs": [
        {
          "output_type": "execute_result",
          "data": {
            "text/plain": [
              "(150099, 50)"
            ]
          },
          "metadata": {
            "tags": []
          },
          "execution_count": 13
        }
      ]
    },
    {
      "cell_type": "code",
      "metadata": {
        "id": "4oaLlKVH6MxG"
      },
      "source": [
        "# reshape input to be [samples, time steps, features]\n",
        "trainX = np.reshape(trainX, (trainX.shape[0], 1, trainX.shape[1]))\n",
        "testX = np.reshape(testX, (testX.shape[0], 1, testX.shape[1]))"
      ],
      "execution_count": 14,
      "outputs": []
    },
    {
      "cell_type": "code",
      "metadata": {
        "colab": {
          "base_uri": "https://localhost:8080/"
        },
        "id": "dDdgu4Id6Pbl",
        "outputId": "39a0e7c7-f239-4c07-d5ad-6a4a134c6789"
      },
      "source": [
        "trainX.shape"
      ],
      "execution_count": 15,
      "outputs": [
        {
          "output_type": "execute_result",
          "data": {
            "text/plain": [
              "(150099, 1, 50)"
            ]
          },
          "metadata": {
            "tags": []
          },
          "execution_count": 15
        }
      ]
    },
    {
      "cell_type": "code",
      "metadata": {
        "colab": {
          "base_uri": "https://localhost:8080/"
        },
        "id": "rEO6ljam6SIA",
        "outputId": "6b88baac-7c8b-4857-e7e6-88b71d6c93ee"
      },
      "source": [
        "# create and fit the LSTM network\n",
        "model = Sequential()\n",
        "model.add(LSTM(4, input_shape=(1, look_back)))\n",
        "model.add(Dense(1))\n",
        "model.compile(loss='mean_squared_error', optimizer='adam')\n",
        "model.fit(trainX, trainY, epochs=1, batch_size=60, verbose=1)"
      ],
      "execution_count": 16,
      "outputs": [
        {
          "output_type": "stream",
          "text": [
            "2502/2502 [==============================] - 7s 2ms/step - loss: 3.8032e-05\n"
          ],
          "name": "stdout"
        },
        {
          "output_type": "execute_result",
          "data": {
            "text/plain": [
              "<tensorflow.python.keras.callbacks.History at 0x7f6808ceab90>"
            ]
          },
          "metadata": {
            "tags": []
          },
          "execution_count": 16
        }
      ]
    },
    {
      "cell_type": "code",
      "metadata": {
        "id": "nr5JW16C6bb-"
      },
      "source": [
        "# make predictions\n",
        "trainPredict = model.predict(trainX)\n",
        "testPredict = model.predict(testX)"
      ],
      "execution_count": 17,
      "outputs": []
    },
    {
      "cell_type": "code",
      "metadata": {
        "colab": {
          "base_uri": "https://localhost:8080/"
        },
        "id": "DUwAXN566v9x",
        "outputId": "38d3fe28-13f1-47a5-d0ba-1567abb2cdb3"
      },
      "source": [
        "trainPredict"
      ],
      "execution_count": 18,
      "outputs": [
        {
          "output_type": "execute_result",
          "data": {
            "text/plain": [
              "array([[0.00841063],\n",
              "       [0.00839027],\n",
              "       [0.00840233],\n",
              "       ...,\n",
              "       [0.00842188],\n",
              "       [0.0084492 ],\n",
              "       [0.00846455]], dtype=float32)"
            ]
          },
          "metadata": {
            "tags": []
          },
          "execution_count": 18
        }
      ]
    },
    {
      "cell_type": "code",
      "metadata": {
        "id": "xJvzghPs6xa7"
      },
      "source": [
        ""
      ],
      "execution_count": null,
      "outputs": []
    },
    {
      "cell_type": "code",
      "metadata": {
        "colab": {
          "base_uri": "https://localhost:8080/"
        },
        "id": "RHbo1RCb6xgd",
        "outputId": "b13fd808-9f20-4070-a704-f3835ed6ec70"
      },
      "source": [
        "trainY"
      ],
      "execution_count": 19,
      "outputs": [
        {
          "output_type": "execute_result",
          "data": {
            "text/plain": [
              "array([0.0082897 , 0.00780392, 0.00872694, ..., 0.00848012, 0.00861828,\n",
              "       0.00848576], dtype=float32)"
            ]
          },
          "metadata": {
            "tags": []
          },
          "execution_count": 19
        }
      ]
    },
    {
      "cell_type": "code",
      "metadata": {
        "id": "1ONJoBSP63CX"
      },
      "source": [
        "\n",
        "# invert predictions\n",
        "trainPredict = scaler.inverse_transform(trainPredict)\n",
        "trainY = scaler.inverse_transform([trainY])\n",
        "testPredict = scaler.inverse_transform(testPredict)\n",
        "testY = scaler.inverse_transform([testY])"
      ],
      "execution_count": 20,
      "outputs": []
    },
    {
      "cell_type": "code",
      "metadata": {
        "colab": {
          "base_uri": "https://localhost:8080/"
        },
        "id": "iRBUZUAC7Kd0",
        "outputId": "2e182460-5bb0-4c5d-9741-cd69e0462d0d"
      },
      "source": [
        "trainPredict,trainY"
      ],
      "execution_count": 21,
      "outputs": [
        {
          "output_type": "execute_result",
          "data": {
            "text/plain": [
              "(array([[19425344.],\n",
              "        [19411222.],\n",
              "        [19419590.],\n",
              "        ...,\n",
              "        [19433154.],\n",
              "        [19452110.],\n",
              "        [19462764.]], dtype=float32),\n",
              " array([[19341428.47938939, 19004336.01571882, 19644840.13240687, ...,\n",
              "         19473567.94962879, 19569440.25177718, 19477484.32296054]]))"
            ]
          },
          "metadata": {
            "tags": []
          },
          "execution_count": 21
        }
      ]
    },
    {
      "cell_type": "code",
      "metadata": {
        "colab": {
          "base_uri": "https://localhost:8080/"
        },
        "id": "XOCVIF2J7NGB",
        "outputId": "d1a25b9a-3a64-4486-d225-91604dcc43e2"
      },
      "source": [
        "\n",
        "# calculate root mean squared error\n",
        "trainScore = math.sqrt(mean_squared_error(trainY[0], trainPredict[:,0]))\n",
        "print('Train Score: %.2f RMSE' % (trainScore))\n",
        "testScore = math.sqrt(mean_squared_error(testY[0], testPredict[:,0]))\n",
        "print('Test Score: %.2f RMSE' % (testScore))"
      ],
      "execution_count": 22,
      "outputs": [
        {
          "output_type": "stream",
          "text": [
            "Train Score: 4067329.69 RMSE\n",
            "Test Score: 4019780.07 RMSE\n"
          ],
          "name": "stdout"
        }
      ]
    },
    {
      "cell_type": "code",
      "metadata": {
        "id": "6a09B4LN7QAx"
      },
      "source": [
        "\n",
        "ransom_data = pd.read_csv('/content/drive/MyDrive/ransomware.txt', engine='python', sep=',',names =['instructions','cache-references','cache-misses','branches','branch-misses'])"
      ],
      "execution_count": 23,
      "outputs": []
    },
    {
      "cell_type": "code",
      "metadata": {
        "id": "f16kZMrN7Vos"
      },
      "source": [
        "ransom_data_instr = ransom_data.iloc[:,[0]]"
      ],
      "execution_count": 24,
      "outputs": []
    },
    {
      "cell_type": "code",
      "metadata": {
        "colab": {
          "base_uri": "https://localhost:8080/",
          "height": 276
        },
        "id": "rPgk7zlr7Y__",
        "outputId": "30573deb-b7b1-4f25-8130-aab706ab6ea1"
      },
      "source": [
        "plt.plot(ransom_data_instr)\n",
        "plt.legend([\"ransomware instructions\"])\n",
        "plt.show()"
      ],
      "execution_count": 25,
      "outputs": [
        {
          "output_type": "display_data",
          "data": {
            "image/png": "[encoded data removed]",
            "text/plain": [
              "<Figure size 432x288 with 1 Axes>"
            ]
          },
          "metadata": {
            "tags": [],
            "needs_background": "light"
          }
        }
      ]
    },
    {
      "cell_type": "code",
      "metadata": {
        "id": "O43Q5BJt7cOk"
      },
      "source": [
        "np.random.seed(7)\n",
        "ransom_data_instr1 = ransom_data_instr.values\n",
        "ransom_data_instr1 = ransom_data_instr.astype('float32')"
      ],
      "execution_count": 26,
      "outputs": []
    },
    {
      "cell_type": "code",
      "metadata": {
        "id": "IgpDy_Mf7ffk"
      },
      "source": [
        "\n",
        "scaler1 = MinMaxScaler(feature_range=(0, 1))\n",
        "ransom_data_instr2 = scaler1.fit_transform(ransom_data_instr1)"
      ],
      "execution_count": 27,
      "outputs": []
    },
    {
      "cell_type": "code",
      "metadata": {
        "id": "COCyvHKr7h3r"
      },
      "source": [
        "\n",
        "look_back = 50\n",
        "X, Y = create_dataset(ransom_data_instr2, look_back)"
      ],
      "execution_count": 28,
      "outputs": []
    },
    {
      "cell_type": "code",
      "metadata": {
        "id": "g4Jj0gEe7kQ9"
      },
      "source": [
        "# reshape input to be [samples, time steps, features]\n",
        "dataX = np.reshape(X, (X.shape[0], 1, X.shape[1]))"
      ],
      "execution_count": 29,
      "outputs": []
    },
    {
      "cell_type": "code",
      "metadata": {
        "id": "lOD9KasV7nhQ"
      },
      "source": [
        "ransomPredict = model.predict(dataX)"
      ],
      "execution_count": 30,
      "outputs": []
    },
    {
      "cell_type": "code",
      "metadata": {
        "colab": {
          "base_uri": "https://localhost:8080/"
        },
        "id": "y9OPyzFZ7rjA",
        "outputId": "5bb5823c-939e-4c51-e99c-b5e76aaaea07"
      },
      "source": [
        "Y[0]"
      ],
      "execution_count": 31,
      "outputs": [
        {
          "output_type": "execute_result",
          "data": {
            "text/plain": [
              "0.013069376"
            ]
          },
          "metadata": {
            "tags": []
          },
          "execution_count": 31
        }
      ]
    },
    {
      "cell_type": "code",
      "metadata": {
        "colab": {
          "base_uri": "https://localhost:8080/"
        },
        "id": "lpAxrNBl7txt",
        "outputId": "f151bd21-cb0f-4a7c-dcb2-e90c658ad1c7"
      },
      "source": [
        "ransomPredict[0]"
      ],
      "execution_count": 32,
      "outputs": [
        {
          "output_type": "execute_result",
          "data": {
            "text/plain": [
              "array([0.00983537], dtype=float32)"
            ]
          },
          "metadata": {
            "tags": []
          },
          "execution_count": 32
        }
      ]
    },
    {
      "cell_type": "code",
      "metadata": {
        "id": "febAGjMQ7xwk"
      },
      "source": [
        "ransomPredict_unscaled = scaler1.inverse_transform(ransomPredict)"
      ],
      "execution_count": 33,
      "outputs": []
    },
    {
      "cell_type": "code",
      "metadata": {
        "colab": {
          "base_uri": "https://localhost:8080/"
        },
        "id": "J6pVIzHo7zEV",
        "outputId": "ac8a568f-971e-42e0-c601-f53726559acd"
      },
      "source": [
        "ransomPredict_unscaled[0]"
      ],
      "execution_count": 34,
      "outputs": [
        {
          "output_type": "execute_result",
          "data": {
            "text/plain": [
              "array([16544169.], dtype=float32)"
            ]
          },
          "metadata": {
            "tags": []
          },
          "execution_count": 34
        }
      ]
    },
    {
      "cell_type": "code",
      "metadata": {
        "colab": {
          "base_uri": "https://localhost:8080/"
        },
        "id": "Sw0l_8fQ72k5",
        "outputId": "3f5fefba-dfd2-4ace-d110-9aaef23febcd"
      },
      "source": [
        "\n",
        "Y"
      ],
      "execution_count": 35,
      "outputs": [
        {
          "output_type": "execute_result",
          "data": {
            "text/plain": [
              "array([0.01306938, 0.01367908, 0.01375489, ..., 0.01034546, 0.01355177,\n",
              "       0.05309854], dtype=float32)"
            ]
          },
          "metadata": {
            "tags": []
          },
          "execution_count": 35
        }
      ]
    },
    {
      "cell_type": "code",
      "metadata": {
        "id": "dOI3JRB676qU"
      },
      "source": [
        "Y1 = scaler1.inverse_transform([Y])"
      ],
      "execution_count": 36,
      "outputs": []
    },
    {
      "cell_type": "code",
      "metadata": {
        "colab": {
          "base_uri": "https://localhost:8080/"
        },
        "id": "HhLkB2gx78Co",
        "outputId": "0d3d9e15-04a4-4c26-86a4-ba40ce7a4046"
      },
      "source": [
        "Y1[0][0]"
      ],
      "execution_count": 37,
      "outputs": [
        {
          "output_type": "execute_result",
          "data": {
            "text/plain": [
              "19049222.720399495"
            ]
          },
          "metadata": {
            "tags": []
          },
          "execution_count": 37
        }
      ]
    },
    {
      "cell_type": "code",
      "metadata": {
        "id": "6uAeVFrz7-hH"
      },
      "source": [
        "\n",
        "ss = np.abs(Y1 - ransomPredict_unscaled)"
      ],
      "execution_count": 38,
      "outputs": []
    },
    {
      "cell_type": "code",
      "metadata": {
        "colab": {
          "base_uri": "https://localhost:8080/"
        },
        "id": "Ft2Avzgy8CcO",
        "outputId": "25bc3879-a739-4345-e98d-ab9e59bd6419"
      },
      "source": [
        "ss[0][0]"
      ],
      "execution_count": 39,
      "outputs": [
        {
          "output_type": "execute_result",
          "data": {
            "text/plain": [
              "2505053.720399495"
            ]
          },
          "metadata": {
            "tags": []
          },
          "execution_count": 39
        }
      ]
    },
    {
      "cell_type": "code",
      "metadata": {
        "id": "57_2DFgJ8Dor"
      },
      "source": [
        "std = np.std(ransomPredict_unscaled)"
      ],
      "execution_count": 40,
      "outputs": []
    },
    {
      "cell_type": "code",
      "metadata": {
        "colab": {
          "base_uri": "https://localhost:8080/"
        },
        "id": "beaAtIIR8Ghl",
        "outputId": "464b84db-4d64-4523-932c-59ac052616fe"
      },
      "source": [
        "std"
      ],
      "execution_count": 41,
      "outputs": [
        {
          "output_type": "execute_result",
          "data": {
            "text/plain": [
              "1390649.4"
            ]
          },
          "metadata": {
            "tags": []
          },
          "execution_count": 41
        }
      ]
    },
    {
      "cell_type": "code",
      "metadata": {
        "colab": {
          "base_uri": "https://localhost:8080/"
        },
        "id": "h3jCbgc-8I3Z",
        "outputId": "ab2b41cf-ced9-47b0-d97c-fa5b0485cea1"
      },
      "source": [
        "ransomPredict_unscaled.mean()"
      ],
      "execution_count": 42,
      "outputs": [
        {
          "output_type": "execute_result",
          "data": {
            "text/plain": [
              "18362934.0"
            ]
          },
          "metadata": {
            "tags": []
          },
          "execution_count": 42
        }
      ]
    },
    {
      "cell_type": "code",
      "metadata": {
        "colab": {
          "base_uri": "https://localhost:8080/"
        },
        "id": "-D7k41MA8LUS",
        "outputId": "9f373980-8155-4d19-bce1-89ee46983edb"
      },
      "source": [
        "Y1.mean()"
      ],
      "execution_count": 43,
      "outputs": [
        {
          "output_type": "execute_result",
          "data": {
            "text/plain": [
              "26600359.667291135"
            ]
          },
          "metadata": {
            "tags": []
          },
          "execution_count": 43
        }
      ]
    },
    {
      "cell_type": "code",
      "metadata": {
        "id": "r6CJXYOw8ONl"
      },
      "source": [
        "\n",
        "UL = ransomPredict_unscaled.mean() + 3 * ransomPredict_unscaled.std()"
      ],
      "execution_count": 44,
      "outputs": []
    },
    {
      "cell_type": "code",
      "metadata": {
        "colab": {
          "base_uri": "https://localhost:8080/"
        },
        "id": "CFNIO7lj8RHu",
        "outputId": "92b16e74-8a15-4b7c-9b4a-0f8bdeac05e3"
      },
      "source": [
        "ransomPredict_unscaled"
      ],
      "execution_count": 45,
      "outputs": [
        {
          "output_type": "execute_result",
          "data": {
            "text/plain": [
              "array([[16544169.],\n",
              "       [16547130.],\n",
              "       [16544935.],\n",
              "       ...,\n",
              "       [20019480.],\n",
              "       [19875976.],\n",
              "       [20793446.]], dtype=float32)"
            ]
          },
          "metadata": {
            "tags": []
          },
          "execution_count": 45
        }
      ]
    },
    {
      "cell_type": "code",
      "metadata": {
        "colab": {
          "base_uri": "https://localhost:8080/"
        },
        "id": "HOmf6uKg8UYY",
        "outputId": "97588743-9812-4bc8-f976-0322f0c8044d"
      },
      "source": [
        "ransomPredict_unscaled.mean()"
      ],
      "execution_count": 46,
      "outputs": [
        {
          "output_type": "execute_result",
          "data": {
            "text/plain": [
              "18362934.0"
            ]
          },
          "metadata": {
            "tags": []
          },
          "execution_count": 46
        }
      ]
    },
    {
      "cell_type": "code",
      "metadata": {
        "colab": {
          "base_uri": "https://localhost:8080/"
        },
        "id": "-ox25qXM8Xoi",
        "outputId": "4ebdbc7f-ca5c-49dc-d8be-fcc9e65e7903"
      },
      "source": [
        "Y1"
      ],
      "execution_count": 47,
      "outputs": [
        {
          "output_type": "execute_result",
          "data": {
            "text/plain": [
              "array([[19049222.7203995 , 19521497.77633126, 19580224.12023161, ...,\n",
              "        16939285.87716696, 19422883.74593435, 50055736.76684529]])"
            ]
          },
          "metadata": {
            "tags": []
          },
          "execution_count": 47
        }
      ]
    },
    {
      "cell_type": "code",
      "metadata": {
        "id": "1PxWArKV8aGD"
      },
      "source": [
        "anomalies = np.where(Y1>=UL)"
      ],
      "execution_count": 48,
      "outputs": []
    },
    {
      "cell_type": "code",
      "metadata": {
        "colab": {
          "base_uri": "https://localhost:8080/"
        },
        "id": "TPLoNQHW8ctS",
        "outputId": "1e9b942f-f2a7-41e9-8db9-2531a7fd7cd8"
      },
      "source": [
        "anomalies[0].shape"
      ],
      "execution_count": 49,
      "outputs": [
        {
          "output_type": "execute_result",
          "data": {
            "text/plain": [
              "(624,)"
            ]
          },
          "metadata": {
            "tags": []
          },
          "execution_count": 49
        }
      ]
    },
    {
      "cell_type": "code",
      "metadata": {
        "colab": {
          "base_uri": "https://localhost:8080/"
        },
        "id": "uKgYFCxH8fUF",
        "outputId": "fab90656-e8de-490c-910f-949b238dd8bd"
      },
      "source": [
        "ransomPredict_unscaled.shape"
      ],
      "execution_count": 50,
      "outputs": [
        {
          "output_type": "execute_result",
          "data": {
            "text/plain": [
              "(2284, 1)"
            ]
          },
          "metadata": {
            "tags": []
          },
          "execution_count": 50
        }
      ]
    },
    {
      "cell_type": "code",
      "metadata": {
        "colab": {
          "base_uri": "https://localhost:8080/"
        },
        "id": "gtfUyvDr8jKQ",
        "outputId": "4e8c3562-1072-4e89-9819-37ccd3235a5f"
      },
      "source": [
        "Y1.shape"
      ],
      "execution_count": 51,
      "outputs": [
        {
          "output_type": "execute_result",
          "data": {
            "text/plain": [
              "(1, 2284)"
            ]
          },
          "metadata": {
            "tags": []
          },
          "execution_count": 51
        }
      ]
    },
    {
      "cell_type": "code",
      "metadata": {
        "id": "RT8ljnS98mRP"
      },
      "source": [
        "df = pd.DataFrame({'observed':np.array(Y1[0,:]),'predicted':np.array(ransomPredict_unscaled[:,0])})"
      ],
      "execution_count": 52,
      "outputs": []
    },
    {
      "cell_type": "code",
      "metadata": {
        "id": "XPPdzcT78nzR"
      },
      "source": [
        ""
      ],
      "execution_count": null,
      "outputs": []
    },
    {
      "cell_type": "code",
      "metadata": {
        "colab": {
          "base_uri": "https://localhost:8080/",
          "height": 293
        },
        "id": "K0O08ycW8qSF",
        "outputId": "c88bfad6-30f2-4d74-b0e1-8900e0d170b8"
      },
      "source": [
        "plt.plot(df)\n",
        "plt.legend(['observed','predicted'])"
      ],
      "execution_count": 53,
      "outputs": [
        {
          "output_type": "execute_result",
          "data": {
            "text/plain": [
              "<matplotlib.legend.Legend at 0x7f6808d3fe90>"
            ]
          },
          "metadata": {
            "tags": []
          },
          "execution_count": 53
        },
        {
          "output_type": "display_data",
          "data": {
            "image/png": "[encoded data removed]",
            "text/plain": [
              "<Figure size 432x288 with 1 Axes>"
            ]
          },
          "metadata": {
            "tags": [],
            "needs_background": "light"
          }
        }
      ]
    }
  ]
}